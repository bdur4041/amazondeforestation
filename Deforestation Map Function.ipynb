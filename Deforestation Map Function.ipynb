{
    "metadata": {
        "kernelspec": {
            "name": "python3",
            "display_name": "Python 3 (ipykernel)",
            "language": "python"
        }
    },
    "nbformat": 4,
    "nbformat_minor": 2,
    "cells": [
        {
            "cell_type": "code",
            "execution_count": 1,
            "metadata": {},
            "outputs": [
                {
                    "name": "stdout",
                    "output_type": "stream",
                    "text": "\u001b[1;31merror\u001b[0m: \u001b[1mexternally-managed-environment\u001b[0m\r\n\r\n\u001b[31m×\u001b[0m This environment is externally managed\r\n\u001b[31m╰─\u003e\u001b[0m To install Python packages system-wide, try 'pacman -S\r\n\u001b[31m   \u001b[0m python-xyz', where xyz is the package you are trying to\r\n\u001b[31m   \u001b[0m install.\r\n\u001b[31m   \u001b[0m \r\n\u001b[31m   \u001b[0m If you wish to install a non-Arch-packaged Python package,\r\n\u001b[31m   \u001b[0m create a virtual environment using 'python -m venv path/to/venv'.\r\n\u001b[31m   \u001b[0m Then use path/to/venv/bin/python and path/to/venv/bin/pip.\r\n\u001b[31m   \u001b[0m \r\n\u001b[31m   \u001b[0m If you wish to install a non-Arch packaged Python application,\r\n\u001b[31m   \u001b[0m it may be easiest to use 'pipx install xyz', which will manage a\r\n\u001b[31m   \u001b[0m virtual environment for you. Make sure you have python-pipx\r\n\u001b[31m   \u001b[0m installed via pacman.\r\n\r\n\u001b[1;35mnote\u001b[0m: If you believe this is a mistake, please contact your Python installation or OS distribution provider. You can override this, at the risk of breaking your Python installation or OS, by passing --break-system-packages.\r\n\u001b[1;36mhint\u001b[0m: See PEP 668 for the detailed specification.\r\n"
                },
                {
                    "ename": "ModuleNotFoundError",
                    "evalue": "No module named 'geodatasets'",
                    "output_type": "error",
                    "traceback": [
                        "\u001b[0;31m---------------------------------------------------------------------------\u001b[0m",
                        "\u001b[0;31mModuleNotFoundError\u001b[0m                       Traceback (most recent call last)",
                        "Cell \u001b[0;32mIn[1], line 3\u001b[0m\n\u001b[1;32m      1\u001b[0m \u001b[38;5;28;01mimport\u001b[39;00m \u001b[38;5;21;01mgeopandas\u001b[39;00m \u001b[38;5;28;01mas\u001b[39;00m \u001b[38;5;21;01mgpd\u001b[39;00m\n\u001b[1;32m      2\u001b[0m get_ipython()\u001b[38;5;241m.\u001b[39msystem(\u001b[38;5;124m'\u001b[39m\u001b[38;5;124mpip install geodatasets\u001b[39m\u001b[38;5;124m'\u001b[39m)\n\u001b[0;32m----\u003e 3\u001b[0m \u001b[38;5;28;01mimport\u001b[39;00m \u001b[38;5;21;01mgeodatasets\u001b[39;00m\n\u001b[1;32m      5\u001b[0m \u001b[38;5;28;01mimport\u001b[39;00m \u001b[38;5;21;01mmatplotlib\u001b[39;00m\u001b[38;5;21;01m.\u001b[39;00m\u001b[38;5;21;01mpyplot\u001b[39;00m \u001b[38;5;28;01mas\u001b[39;00m \u001b[38;5;21;01mplt\u001b[39;00m\n\u001b[1;32m      6\u001b[0m \u001b[38;5;28;01mimport\u001b[39;00m \u001b[38;5;21;01mmatplotlib\u001b[39;00m\u001b[38;5;21;01m.\u001b[39;00m\u001b[38;5;21;01mtri\u001b[39;00m \u001b[38;5;28;01mas\u001b[39;00m \u001b[38;5;21;01mmtri\u001b[39;00m\n",
                        "\u001b[0;31mModuleNotFoundError\u001b[0m: No module named 'geodatasets'"
                    ]
                }
            ],
            "source": [
                "import geopandas as gpd\n",
                "!pip install geodatasets\n",
                "import geodatasets\n",
                "\n",
                "import matplotlib.pyplot as plt\n",
                "import matplotlib.tri as mtri\n",
                "\n",
                "from shapely.geometry import box\n",
                "\n",
                "import pandas as pd\n",
                "import numpy as np\n",
                "\n",
                "import os\n",
                "import cartopy\n",
                "import cartopy.crs as ccrs\n",
                "import cartopy.feature as cfeature\n",
                "cartopy.config['data_dir'] = os.getenv('CARTOPY_DIR', cartopy.config.get('data_dir'))\n",
                "\n",
                "import cmocean\n",
                "import cartopy.io.shapereader as shpreader\n",
                "from cartopy.feature import ShapelyFeature"
            ]
        },
        {
            "cell_type": "code",
            "execution_count": 2,
            "metadata": {},
            "outputs": [],
            "source": [
                "def deforestation_map(DF_year,size,colour):\n",
                "\n",
                "    '''\n",
                "    This function plots deforestation for a specific year overlaid with the ecoregions of the Amazon and Indigenous and protected areas.\n",
                "\n",
                "    DF_Year = a year between 2008 and 2022 as a float (ending in .0)\n",
                "    size = size of the figure\n",
                "    '''\n",
                "        \n",
                "    #Import shapefiles\n",
                "\n",
                "    bordersf = gpd.read_file('amazon_biome_border.shp')\n",
                "    deforestationsf = gpd.read_file('yearly_deforestation_biome.shp')\n",
                "    vegetationsf = gpd.read_file('wwf_terr_ecos.shp')\n",
                "\n",
                "    #crop the vegetation shapefile to the amazon biome border\n",
                "\n",
                "    #Changing the projection of the border to PlateCaree (WGS84) to match vegetation protection\n",
                "    \n",
                "    bordersf_proj = bordersf.copy().to_crs(epsg=4326)\n",
                "        \n",
                "    #clip vegetation shapefile to newshapefile\n",
                "    \n",
                "    vegetationsf_clip = vegetationsf.copy()\n",
                "    \n",
                "    vegetationsf_clip = gpd.clip(vegetationsf_clip,bordersf_proj)\n",
                "    \n",
                "    # crop the deforestation shapefile to a specific year that is specified\n",
                "    deforestationsf_clip_DF_year = deforestationsf.copy\n",
                "    deforestationsf_clip_DF_year = deforestationsf[deforestationsf[\"year\"] == DF_year]\n",
                "    \n",
                "    # plot the map\n",
                "    # Defining the figure\n",
                "    fig = plt.figure(figsize=size, facecolor='w', edgecolor='k')\n",
                "\n",
                "    # Set up the projection\n",
                "\n",
                "    ax = plt.axes(projection=ccrs.PlateCarree())\n",
                "\n",
                "    # Set up the extent of the plot\n",
                "\n",
                "    ax.set_extent([-90, -30, -20, 15], ccrs.PlateCarree())\n",
                "\n",
                "    #Set up grid and lon/lat labels\n",
                "\n",
                "    gl = ax.gridlines(crs=ccrs.PlateCarree(), draw_labels=True,\n",
                "                      linewidth=0.1, color='k', alpha=1, \n",
                "                      linestyle='--')\n",
                "    gl.top_labels = False\n",
                "    gl.right_labels = False\n",
                "    gl.xlabel_style = {'size': 8}\n",
                "    gl.ylabel_style = {'size': 8} \n",
                "\n",
                "\n",
                "    # Plot Shapefile\n",
                "    # ax=plt.gca means that you are plotting along the axes you defined\n",
                "\n",
                "    ecoregion = vegetationsf_clip.plot(ax=plt.gca(), column=\"ECO_NAME\", cmap =colour, zorder = 2, \n",
                "#                                        legend=True, legend_kwds ={'bbox_to_anchor': (2 , 1)}\n",
                "                                      )\n",
                "    \n",
                "    yearly_deforestation = deforestationsf_clip_DF_year.plot(ax=plt.gca(), linewidth = 0.1, edgecolor='red', zorder = 3)\n",
                "    \n",
                "    amazon_biome_border = bordersf.plot(ax=plt.gca(), linewidth=1, color='none', edgecolor='black', zorder = 1)\n",
                "\n",
                "\n",
                "    # Add map features with Cartopy \n",
                "    ax.add_feature(cfeature.NaturalEarthFeature('physical', 'land', '10m', \n",
                "                                                edgecolor='face', \n",
                "                                                facecolor='white'))\n",
                "    ax.coastlines(linewidth=1)\n",
                "\n",
                "    #Save as PDF file\n",
                "    \n",
                "    plt.savefig('Deforestation_Map_'+str(DF_year)+'.tiff')\n",
                "    \n",
                "    return"
            ]
        },
        {
            "cell_type": "code",
            "execution_count": 3,
            "metadata": {},
            "outputs": [
                {
                    "name": "stderr",
                    "output_type": "stream",
                    "text": "libpodofo.so.0.9.8: cannot open shared object file: No such file or directory\nlibpodofo.so.0.9.8: cannot open shared object file: No such file or directory\nlibpodofo.so.0.9.8: cannot open shared object file: No such file or directory\nlibpodofo.so.0.9.8: cannot open shared object file: No such file or directory\n"
                },
                {
                    "ename": "DriverError",
                    "evalue": "amazon_biome_border.shp: No such file or directory",
                    "output_type": "error",
                    "traceback": [
                        "\u001b[0;31m---------------------------------------------------------------------------\u001b[0m",
                        "\u001b[0;31mCPLE_OpenFailedError\u001b[0m                      Traceback (most recent call last)",
                        "File \u001b[0;32mfiona/ogrext.pyx:136\u001b[0m, in \u001b[0;36mfiona.ogrext.gdal_open_vector\u001b[0;34m()\u001b[0m\n",
                        "File \u001b[0;32mfiona/_err.pyx:291\u001b[0m, in \u001b[0;36mfiona._err.exc_wrap_pointer\u001b[0;34m()\u001b[0m\n",
                        "\u001b[0;31mCPLE_OpenFailedError\u001b[0m: amazon_biome_border.shp: No such file or directory",
                        "\nDuring handling of the above exception, another exception occurred:\n",
                        "\u001b[0;31mDriverError\u001b[0m                               Traceback (most recent call last)",
                        "Cell \u001b[0;32mIn[1], line 1\u001b[0m\n\u001b[0;32m----\u003e 1\u001b[0m \u001b[43mdeforestation_map\u001b[49m\u001b[43m(\u001b[49m\u001b[38;5;241;43m2008.0\u001b[39;49m\u001b[43m,\u001b[49m\u001b[43m(\u001b[49m\u001b[38;5;241;43m20\u001b[39;49m\u001b[43m,\u001b[49m\u001b[43m \u001b[49m\u001b[38;5;241;43m40\u001b[39;49m\u001b[43m)\u001b[49m\u001b[43m,\u001b[49m\u001b[38;5;124;43m'\u001b[39;49m\u001b[38;5;124;43mviridis\u001b[39;49m\u001b[38;5;124;43m'\u001b[39;49m\u001b[43m)\u001b[49m\n",
                        "Cell \u001b[0;32mIn[1], line 12\u001b[0m, in \u001b[0;36mdeforestation_map\u001b[0;34m(DF_year, size, colour)\u001b[0m\n\u001b[1;32m      3\u001b[0m \u001b[38;5;250m\u001b[39m\u001b[38;5;124;03m'''\u001b[39;00m\n\u001b[1;32m      4\u001b[0m \u001b[38;5;124;03mThis function plots deforestation for a specific year overlaid with the ecoregions of the Amazon and Indigenous and protected areas.\u001b[39;00m\n\u001b[1;32m      5\u001b[0m \n\u001b[1;32m      6\u001b[0m \u001b[38;5;124;03mDF_Year = a year between 2008 and 2022 as a float (ending in .0)\u001b[39;00m\n\u001b[1;32m      7\u001b[0m \u001b[38;5;124;03msize = size of the figure\u001b[39;00m\n\u001b[1;32m      8\u001b[0m \u001b[38;5;124;03m'''\u001b[39;00m\n\u001b[1;32m     10\u001b[0m \u001b[38;5;66;03m#Import shapefiles\u001b[39;00m\n\u001b[0;32m---\u003e 12\u001b[0m bordersf \u001b[38;5;241m=\u001b[39m \u001b[43mgpd\u001b[49m\u001b[38;5;241;43m.\u001b[39;49m\u001b[43mread_file\u001b[49m\u001b[43m(\u001b[49m\u001b[38;5;124;43m'\u001b[39;49m\u001b[38;5;124;43mamazon_biome_border.shp\u001b[39;49m\u001b[38;5;124;43m'\u001b[39;49m\u001b[43m)\u001b[49m\n\u001b[1;32m     13\u001b[0m deforestationsf \u001b[38;5;241m=\u001b[39m gpd\u001b[38;5;241m.\u001b[39mread_file(\u001b[38;5;124m'\u001b[39m\u001b[38;5;124myearly_deforestation_biome.shp\u001b[39m\u001b[38;5;124m'\u001b[39m)\n\u001b[1;32m     14\u001b[0m vegetationsf \u001b[38;5;241m=\u001b[39m gpd\u001b[38;5;241m.\u001b[39mread_file(\u001b[38;5;124m'\u001b[39m\u001b[38;5;124mwwf_terr_ecos.shp\u001b[39m\u001b[38;5;124m'\u001b[39m)\n",
                        "File \u001b[0;32m/usr/lib/python3.11/site-packages/geopandas/io/file.py:281\u001b[0m, in \u001b[0;36m_read_file\u001b[0;34m(filename, bbox, mask, rows, engine, **kwargs)\u001b[0m\n\u001b[1;32m    278\u001b[0m     \u001b[38;5;28;01melse\u001b[39;00m:\n\u001b[1;32m    279\u001b[0m         path_or_bytes \u001b[38;5;241m=\u001b[39m filename\n\u001b[0;32m--\u003e 281\u001b[0m     \u001b[38;5;28;01mreturn\u001b[39;00m \u001b[43m_read_file_fiona\u001b[49m\u001b[43m(\u001b[49m\n\u001b[1;32m    282\u001b[0m \u001b[43m        \u001b[49m\u001b[43mpath_or_bytes\u001b[49m\u001b[43m,\u001b[49m\u001b[43m \u001b[49m\u001b[43mfrom_bytes\u001b[49m\u001b[43m,\u001b[49m\u001b[43m \u001b[49m\u001b[43mbbox\u001b[49m\u001b[38;5;241;43m=\u001b[39;49m\u001b[43mbbox\u001b[49m\u001b[43m,\u001b[49m\u001b[43m \u001b[49m\u001b[43mmask\u001b[49m\u001b[38;5;241;43m=\u001b[39;49m\u001b[43mmask\u001b[49m\u001b[43m,\u001b[49m\u001b[43m \u001b[49m\u001b[43mrows\u001b[49m\u001b[38;5;241;43m=\u001b[39;49m\u001b[43mrows\u001b[49m\u001b[43m,\u001b[49m\u001b[43m \u001b[49m\u001b[38;5;241;43m*\u001b[39;49m\u001b[38;5;241;43m*\u001b[39;49m\u001b[43mkwargs\u001b[49m\n\u001b[1;32m    283\u001b[0m \u001b[43m    \u001b[49m\u001b[43m)\u001b[49m\n\u001b[1;32m    285\u001b[0m \u001b[38;5;28;01melse\u001b[39;00m:\n\u001b[1;32m    286\u001b[0m     \u001b[38;5;28;01mraise\u001b[39;00m \u001b[38;5;167;01mValueError\u001b[39;00m(\u001b[38;5;124mf\u001b[39m\u001b[38;5;124m\"\u001b[39m\u001b[38;5;124munknown engine \u001b[39m\u001b[38;5;124m'\u001b[39m\u001b[38;5;132;01m{\u001b[39;00mengine\u001b[38;5;132;01m}\u001b[39;00m\u001b[38;5;124m'\u001b[39m\u001b[38;5;124m\"\u001b[39m)\n",
                        "File \u001b[0;32m/usr/lib/python3.11/site-packages/geopandas/io/file.py:322\u001b[0m, in \u001b[0;36m_read_file_fiona\u001b[0;34m(path_or_bytes, from_bytes, bbox, mask, rows, where, **kwargs)\u001b[0m\n\u001b[1;32m    319\u001b[0m     reader \u001b[38;5;241m=\u001b[39m fiona\u001b[38;5;241m.\u001b[39mopen\n\u001b[1;32m    321\u001b[0m \u001b[38;5;28;01mwith\u001b[39;00m fiona_env():\n\u001b[0;32m--\u003e 322\u001b[0m     \u001b[38;5;28;01mwith\u001b[39;00m \u001b[43mreader\u001b[49m\u001b[43m(\u001b[49m\u001b[43mpath_or_bytes\u001b[49m\u001b[43m,\u001b[49m\u001b[43m \u001b[49m\u001b[38;5;241;43m*\u001b[39;49m\u001b[38;5;241;43m*\u001b[39;49m\u001b[43mkwargs\u001b[49m\u001b[43m)\u001b[49m \u001b[38;5;28;01mas\u001b[39;00m features:\n\u001b[1;32m    323\u001b[0m         crs \u001b[38;5;241m=\u001b[39m features\u001b[38;5;241m.\u001b[39mcrs_wkt\n\u001b[1;32m    324\u001b[0m         \u001b[38;5;66;03m# attempt to get EPSG code\u001b[39;00m\n",
                        "File \u001b[0;32m/usr/lib/python3.11/site-packages/fiona/env.py:457\u001b[0m, in \u001b[0;36mensure_env_with_credentials.\u003clocals\u003e.wrapper\u001b[0;34m(*args, **kwds)\u001b[0m\n\u001b[1;32m    454\u001b[0m     session \u001b[38;5;241m=\u001b[39m DummySession()\n\u001b[1;32m    456\u001b[0m \u001b[38;5;28;01mwith\u001b[39;00m env_ctor(session\u001b[38;5;241m=\u001b[39msession):\n\u001b[0;32m--\u003e 457\u001b[0m     \u001b[38;5;28;01mreturn\u001b[39;00m \u001b[43mf\u001b[49m\u001b[43m(\u001b[49m\u001b[38;5;241;43m*\u001b[39;49m\u001b[43margs\u001b[49m\u001b[43m,\u001b[49m\u001b[43m \u001b[49m\u001b[38;5;241;43m*\u001b[39;49m\u001b[38;5;241;43m*\u001b[39;49m\u001b[43mkwds\u001b[49m\u001b[43m)\u001b[49m\n",
                        "File \u001b[0;32m/usr/lib/python3.11/site-packages/fiona/__init__.py:336\u001b[0m, in \u001b[0;36mopen\u001b[0;34m(fp, mode, driver, schema, crs, encoding, layer, vfs, enabled_drivers, crs_wkt, allow_unsupported_drivers, **kwargs)\u001b[0m\n\u001b[1;32m    333\u001b[0m     path \u001b[38;5;241m=\u001b[39m parse_path(fp)\n\u001b[1;32m    335\u001b[0m \u001b[38;5;28;01mif\u001b[39;00m mode \u001b[38;5;129;01min\u001b[39;00m (\u001b[38;5;124m\"\u001b[39m\u001b[38;5;124ma\u001b[39m\u001b[38;5;124m\"\u001b[39m, \u001b[38;5;124m\"\u001b[39m\u001b[38;5;124mr\u001b[39m\u001b[38;5;124m\"\u001b[39m):\n\u001b[0;32m--\u003e 336\u001b[0m     colxn \u001b[38;5;241m=\u001b[39m \u001b[43mCollection\u001b[49m\u001b[43m(\u001b[49m\n\u001b[1;32m    337\u001b[0m \u001b[43m        \u001b[49m\u001b[43mpath\u001b[49m\u001b[43m,\u001b[49m\n\u001b[1;32m    338\u001b[0m \u001b[43m        \u001b[49m\u001b[43mmode\u001b[49m\u001b[43m,\u001b[49m\n\u001b[1;32m    339\u001b[0m \u001b[43m        \u001b[49m\u001b[43mdriver\u001b[49m\u001b[38;5;241;43m=\u001b[39;49m\u001b[43mdriver\u001b[49m\u001b[43m,\u001b[49m\n\u001b[1;32m    340\u001b[0m \u001b[43m        \u001b[49m\u001b[43mencoding\u001b[49m\u001b[38;5;241;43m=\u001b[39;49m\u001b[43mencoding\u001b[49m\u001b[43m,\u001b[49m\n\u001b[1;32m    341\u001b[0m \u001b[43m        \u001b[49m\u001b[43mlayer\u001b[49m\u001b[38;5;241;43m=\u001b[39;49m\u001b[43mlayer\u001b[49m\u001b[43m,\u001b[49m\n\u001b[1;32m    342\u001b[0m \u001b[43m        \u001b[49m\u001b[43menabled_drivers\u001b[49m\u001b[38;5;241;43m=\u001b[39;49m\u001b[43menabled_drivers\u001b[49m\u001b[43m,\u001b[49m\n\u001b[1;32m    343\u001b[0m \u001b[43m        \u001b[49m\u001b[43mallow_unsupported_drivers\u001b[49m\u001b[38;5;241;43m=\u001b[39;49m\u001b[43mallow_unsupported_drivers\u001b[49m\u001b[43m,\u001b[49m\n\u001b[1;32m    344\u001b[0m \u001b[43m        \u001b[49m\u001b[38;5;241;43m*\u001b[39;49m\u001b[38;5;241;43m*\u001b[39;49m\u001b[43mkwargs\u001b[49m\n\u001b[1;32m    345\u001b[0m \u001b[43m    \u001b[49m\u001b[43m)\u001b[49m\n\u001b[1;32m    346\u001b[0m \u001b[38;5;28;01melif\u001b[39;00m mode \u001b[38;5;241m==\u001b[39m \u001b[38;5;124m\"\u001b[39m\u001b[38;5;124mw\u001b[39m\u001b[38;5;124m\"\u001b[39m:\n\u001b[1;32m    347\u001b[0m     colxn \u001b[38;5;241m=\u001b[39m Collection(\n\u001b[1;32m    348\u001b[0m         path,\n\u001b[1;32m    349\u001b[0m         mode,\n\u001b[0;32m   (...)\u001b[0m\n\u001b[1;32m    358\u001b[0m         \u001b[38;5;241m*\u001b[39m\u001b[38;5;241m*\u001b[39mkwargs\n\u001b[1;32m    359\u001b[0m     )\n",
                        "File \u001b[0;32m/usr/lib/python3.11/site-packages/fiona/collection.py:243\u001b[0m, in \u001b[0;36mCollection.__init__\u001b[0;34m(self, path, mode, driver, schema, crs, encoding, layer, vsi, archive, enabled_drivers, crs_wkt, ignore_fields, ignore_geometry, include_fields, wkt_version, allow_unsupported_drivers, **kwargs)\u001b[0m\n\u001b[1;32m    241\u001b[0m \u001b[38;5;28;01mif\u001b[39;00m \u001b[38;5;28mself\u001b[39m\u001b[38;5;241m.\u001b[39mmode \u001b[38;5;241m==\u001b[39m \u001b[38;5;124m\"\u001b[39m\u001b[38;5;124mr\u001b[39m\u001b[38;5;124m\"\u001b[39m:\n\u001b[1;32m    242\u001b[0m     \u001b[38;5;28mself\u001b[39m\u001b[38;5;241m.\u001b[39msession \u001b[38;5;241m=\u001b[39m Session()\n\u001b[0;32m--\u003e 243\u001b[0m     \u001b[38;5;28;43mself\u001b[39;49m\u001b[38;5;241;43m.\u001b[39;49m\u001b[43msession\u001b[49m\u001b[38;5;241;43m.\u001b[39;49m\u001b[43mstart\u001b[49m\u001b[43m(\u001b[49m\u001b[38;5;28;43mself\u001b[39;49m\u001b[43m,\u001b[49m\u001b[43m \u001b[49m\u001b[38;5;241;43m*\u001b[39;49m\u001b[38;5;241;43m*\u001b[39;49m\u001b[43mkwargs\u001b[49m\u001b[43m)\u001b[49m\n\u001b[1;32m    244\u001b[0m \u001b[38;5;28;01melif\u001b[39;00m \u001b[38;5;28mself\u001b[39m\u001b[38;5;241m.\u001b[39mmode \u001b[38;5;129;01min\u001b[39;00m (\u001b[38;5;124m\"\u001b[39m\u001b[38;5;124ma\u001b[39m\u001b[38;5;124m\"\u001b[39m, \u001b[38;5;124m\"\u001b[39m\u001b[38;5;124mw\u001b[39m\u001b[38;5;124m\"\u001b[39m):\n\u001b[1;32m    245\u001b[0m     \u001b[38;5;28mself\u001b[39m\u001b[38;5;241m.\u001b[39msession \u001b[38;5;241m=\u001b[39m WritingSession()\n",
                        "File \u001b[0;32mfiona/ogrext.pyx:588\u001b[0m, in \u001b[0;36mfiona.ogrext.Session.start\u001b[0;34m()\u001b[0m\n",
                        "File \u001b[0;32mfiona/ogrext.pyx:143\u001b[0m, in \u001b[0;36mfiona.ogrext.gdal_open_vector\u001b[0;34m()\u001b[0m\n",
                        "\u001b[0;31mDriverError\u001b[0m: amazon_biome_border.shp: No such file or directory"
                    ]
                }
            ],
            "source": [
                "deforestation_map(2008.0,(20, 40),'viridis')"
            ]
        },
        {
            "cell_type": "code",
            "execution_count": 0,
            "metadata": {},
            "outputs": [],
            "source": [
                ""
            ]
        }
    ]
}
